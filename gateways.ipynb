{
 "cells": [
  {
   "cell_type": "code",
   "execution_count": null,
   "metadata": {},
   "outputs": [],
   "source": [
    "import requests\n",
    "import json\n",
    "#import orjson\n",
    "import os\n",
    "from datetime import datetime\n",
    "import pandas as pd\n",
    "from pandas import json_normalize\n",
    "from io import StringIO\n",
    "#import geopandas as gpd\n",
    "#from geopy.geocoders import Nominatim\n",
    "#from geopy.extra.rate_limiter import RateLimiter\n",
    "from shapely.geometry import Point, LineString\n",
    "#import matplotlib.pyplot as plt\n",
    "#import contextily as ctx\n",
    "from dotenv import load_dotenv\n",
    "load_dotenv(override=True)"
   ]
  },
  {
   "cell_type": "code",
   "execution_count": 2,
   "metadata": {},
   "outputs": [],
   "source": [
    "base_url = os.getenv('os2iot_BASE_URL')\n",
    "os2iot_url = os.getenv('os2iot_URL')\n",
    "os2iot_api_1 = os.getenv('os2iot_api_1')\n",
    "org_id = os.getenv('os2iot_org_id')\n",
    "\n",
    "url = f\"{base_url}/chirpstack/gateway?organizationId={org_id}&limit=100000&offset=0\"\n",
    "\n",
    "headers = {\n",
    "    'X-API-KEY': os2iot_api_1\n",
    "}\n",
    "\n",
    "response = requests.get(url, headers=headers)\n",
    "\n",
    "data = json.loads(response.text)\n",
    "\n",
    "for item in data['resultList']:\n",
    "    location = item.get('location', {})\n",
    "    item['latitude'] = location.get('latitude')\n",
    "    item['longitude'] = location.get('longitude')\n",
    "\n",
    "gateway_df = pd.DataFrame(data.get('resultList', []))[['gatewayId', 'name', 'description', 'operationalResponsibleName', 'rxPacketsReceived',\n",
    "                                                       'txPacketsEmitted', 'modelName', 'antennaType', \n",
    "                                                       'placement', 'latitude', 'longitude','lastSeenAt', 'status']]\n",
    "\n",
    "gateway_df = gateway_df.rename(columns={'gatewayId': 'gatewayID',\n",
    "                                        'name': 'gateway_name',\n",
    "                                        'latitude': 'gateway_latitude', \n",
    "                                        'longitude': 'gateway_longitude',\n",
    "                                        'modelName': 'model_navn',\n",
    "                                        'antennaType': 'antenne_type'})\n",
    "\n",
    "gateway_df['lastSeenAt'] = pd.to_datetime(gateway_df['lastSeenAt'])\n",
    "gateway_df['date'] = gateway_df['lastSeenAt'].dt.date\n",
    "\n",
    "def extract_coordinates(point):\n",
    "    return f\"{point.y}, {point.x}\"\n",
    "gateway_df['gateway_point'] = gateway_df.apply(lambda row: Point(row['gateway_longitude'], row['gateway_latitude']), axis=1)\n",
    "gateway_df['gateway_loc'] = gateway_df['gateway_point'].apply(extract_coordinates)\n",
    "gateway_df = gateway_df.drop(columns=['lastSeenAt', 'gateway_point'])\n",
    "\n",
    "gateway_df['url'] = gateway_df.apply(lambda row: f\"{os2iot_url}/gateways/gateway-detail/{row['gatewayID']}\", axis=1)\n",
    "\n",
    "gateway_df.to_csv(os.getcwd() + '/gateways.csv', encoding='utf-8')"
   ]
  },
  {
   "cell_type": "code",
   "execution_count": null,
   "metadata": {},
   "outputs": [],
   "source": [
    "gateway_df"
   ]
  },
  {
   "cell_type": "code",
   "execution_count": null,
   "metadata": {},
   "outputs": [],
   "source": [
    "from pandas import json_normalize\n",
    "df_api = json_normalize(data[\"resultList\"])\n",
    "df_api"
   ]
  }
 ],
 "metadata": {
  "kernelspec": {
   "display_name": ".venv",
   "language": "python",
   "name": "python3"
  },
  "language_info": {
   "codemirror_mode": {
    "name": "ipython",
    "version": 3
   },
   "file_extension": ".py",
   "mimetype": "text/x-python",
   "name": "python",
   "nbconvert_exporter": "python",
   "pygments_lexer": "ipython3",
   "version": "3.9.6"
  }
 },
 "nbformat": 4,
 "nbformat_minor": 2
}
