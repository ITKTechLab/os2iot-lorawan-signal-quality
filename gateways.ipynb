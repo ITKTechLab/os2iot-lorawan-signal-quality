{
 "cells": [
  {
   "cell_type": "code",
   "execution_count": null,
   "metadata": {},
   "outputs": [
    {
     "name": "stderr",
     "output_type": "stream",
     "text": [
      "/Users/kristian/Desktop/os2iot-lorawan-signal-quality/.venv/lib/python3.9/site-packages/urllib3/__init__.py:35: NotOpenSSLWarning: urllib3 v2 only supports OpenSSL 1.1.1+, currently the 'ssl' module is compiled with 'LibreSSL 2.8.3'. See: https://github.com/urllib3/urllib3/issues/3020\n",
      "  warnings.warn(\n"
     ]
    },
    {
     "data": {
      "text/plain": [
       "True"
      ]
     },
     "execution_count": 2,
     "metadata": {},
     "output_type": "execute_result"
    }
   ],
   "source": [
    "import requests\n",
    "import json\n",
    "import os\n",
    "from datetime import datetime\n",
    "import pandas as pd\n",
    "from pandas import json_normalize\n",
    "from io import StringIO\n",
    "from shapely.geometry import Point, LineString\n",
    "from dotenv import load_dotenv\n",
    "load_dotenv(override=True)"
   ]
  },
  {
   "cell_type": "code",
   "execution_count": 1,
   "metadata": {},
   "outputs": [
    {
     "ename": "NameError",
     "evalue": "name 'os' is not defined",
     "output_type": "error",
     "traceback": [
      "\u001b[0;31m---------------------------------------------------------------------------\u001b[0m",
      "\u001b[0;31mNameError\u001b[0m                                 Traceback (most recent call last)",
      "Cell \u001b[0;32mIn[1], line 1\u001b[0m\n\u001b[0;32m----> 1\u001b[0m base_url \u001b[38;5;241m=\u001b[39m \u001b[43mos\u001b[49m\u001b[38;5;241m.\u001b[39mgetenv(\u001b[38;5;124m'\u001b[39m\u001b[38;5;124mos2iot_BASE_URL\u001b[39m\u001b[38;5;124m'\u001b[39m)\n\u001b[1;32m      2\u001b[0m os2iot_url \u001b[38;5;241m=\u001b[39m os\u001b[38;5;241m.\u001b[39mgetenv(\u001b[38;5;124m'\u001b[39m\u001b[38;5;124mos2iot_URL\u001b[39m\u001b[38;5;124m'\u001b[39m)\n\u001b[1;32m      3\u001b[0m os2iot_api_1 \u001b[38;5;241m=\u001b[39m os\u001b[38;5;241m.\u001b[39mgetenv(\u001b[38;5;124m'\u001b[39m\u001b[38;5;124mos2iot_api_1\u001b[39m\u001b[38;5;124m'\u001b[39m)\n",
      "\u001b[0;31mNameError\u001b[0m: name 'os' is not defined"
     ]
    }
   ],
   "source": [
    "base_url = os.getenv('os2iot_BASE_URL')\n",
    "os2iot_url = os.getenv('os2iot_URL')\n",
    "os2iot_api_1 = os.getenv('os2iot_api_1')\n",
    "org_id = os.getenv('os2iot_org_id')\n",
    "\n",
    "url = f\"{base_url}/chirpstack/gateway?organizationId={org_id}&limit=100000&offset=0\"\n",
    "\n",
    "headers = {\n",
    "    'X-API-KEY': os2iot_api_1\n",
    "}\n",
    "\n",
    "response = requests.get(url, headers=headers)\n",
    "\n",
    "data = json.loads(response.text)\n",
    "\n",
    "for item in data['resultList']:\n",
    "    location = item.get('location', {})\n",
    "    item['latitude'] = location.get('latitude')\n",
    "    item['longitude'] = location.get('longitude')\n",
    "\n",
    "gateway_df = pd.DataFrame(data.get('resultList', []))[['gatewayId', 'name', 'description', 'operationalResponsibleName', 'rxPacketsReceived',\n",
    "                                                       'txPacketsEmitted', 'modelName', 'antennaType', \n",
    "                                                       'placement', 'latitude', 'longitude','lastSeenAt', 'status']]\n",
    "\n",
    "gateway_df = gateway_df.rename(columns={'gatewayId': 'gatewayID',\n",
    "                                        'name': 'gateway_name',\n",
    "                                        'latitude': 'gateway_latitude', \n",
    "                                        'longitude': 'gateway_longitude',\n",
    "                                        'modelName': 'model_navn',\n",
    "                                        'antennaType': 'antenne_type'})\n",
    "\n",
    "gateway_df['lastSeenAt'] = pd.to_datetime(gateway_df['lastSeenAt'])\n",
    "gateway_df['date'] = gateway_df['lastSeenAt'].dt.date\n",
    "\n",
    "def extract_coordinates(point):\n",
    "    return f\"{point.y}, {point.x}\"\n",
    "gateway_df['gateway_point'] = gateway_df.apply(lambda row: Point(row['gateway_longitude'], row['gateway_latitude']), axis=1)\n",
    "gateway_df['gateway_loc'] = gateway_df['gateway_point'].apply(extract_coordinates)\n",
    "gateway_df = gateway_df.drop(columns=['lastSeenAt', 'gateway_point'])\n",
    "\n",
    "gateway_df['url'] = gateway_df.apply(lambda row: f\"{os2iot_url}/gateways/gateway-detail/{row['gatewayID']}\", axis=1)\n",
    "\n",
    "gateway_df.to_csv(os.getcwd() + '/gateways.csv', encoding='utf-8')"
   ]
  },
  {
   "cell_type": "code",
   "execution_count": null,
   "metadata": {},
   "outputs": [],
   "source": [
    "gateway_df"
   ]
  },
  {
   "cell_type": "code",
   "execution_count": null,
   "metadata": {},
   "outputs": [],
   "source": [
    "from pandas import json_normalize\n",
    "df_api = json_normalize(data[\"resultList\"])\n",
    "df_api"
   ]
  }
 ],
 "metadata": {
  "kernelspec": {
   "display_name": ".venv",
   "language": "python",
   "name": "python3"
  },
  "language_info": {
   "codemirror_mode": {
    "name": "ipython",
    "version": 3
   },
   "file_extension": ".py",
   "mimetype": "text/x-python",
   "name": "python",
   "nbconvert_exporter": "python",
   "pygments_lexer": "ipython3",
   "version": "3.9.6"
  }
 },
 "nbformat": 4,
 "nbformat_minor": 2
}
